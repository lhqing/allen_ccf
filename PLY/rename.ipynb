{
 "cells": [
  {
   "cell_type": "code",
   "execution_count": 1,
   "metadata": {
    "ExecuteTime": {
     "end_time": "2019-11-16T19:17:29.336063Z",
     "start_time": "2019-11-16T19:17:29.334220Z"
    }
   },
   "outputs": [],
   "source": [
    "import json\n",
    "import pathlib"
   ]
  },
  {
   "cell_type": "code",
   "execution_count": 2,
   "metadata": {
    "ExecuteTime": {
     "end_time": "2019-11-16T19:17:29.353683Z",
     "start_time": "2019-11-16T19:17:29.337420Z"
    }
   },
   "outputs": [],
   "source": [
    "with open('../ish/StructureTree/id_to_acronym.json') as f:\n",
    "    id_to_name = json.load(f)"
   ]
  },
  {
   "cell_type": "code",
   "execution_count": 3,
   "metadata": {
    "ExecuteTime": {
     "end_time": "2019-11-16T19:17:29.536786Z",
     "start_time": "2019-11-16T19:17:29.354941Z"
    },
    "scrolled": true
   },
   "outputs": [],
   "source": [
    "ply_list = pathlib.Path('PLY').glob('*.ply')\n",
    "\n",
    "for ply in ply_list:\n",
    "    region_id = ply.name.split('.')[0]\n",
    "    region_name = id_to_name[region_id]\n",
    "    region_name = region_name.replace('/', '.')\n",
    "    with open(ply, 'rb') as f, open(f'PLY_region_name/{region_name}.ply', 'wb') as out_f:\n",
    "        out_f.write(f.read())"
   ]
  },
  {
   "cell_type": "markdown",
   "metadata": {},
   "source": [
    "## Used structure list in RS1.1 paper"
   ]
  },
  {
   "cell_type": "code",
   "execution_count": 4,
   "metadata": {
    "ExecuteTime": {
     "end_time": "2019-11-16T19:17:29.544277Z",
     "start_time": "2019-11-16T19:17:29.538420Z"
    }
   },
   "outputs": [],
   "source": [
    "structure_list = [\n",
    "    '985', '993', '39', '48', '972', '44', '184', '541', '922', '895', '507',\n",
    "    '159', '814', '961', '619', '788', '566', '385', '425', '533', '312782574',\n",
    "    '312782628', '409', '394', '402', '322', '378', '1057', '677', '583',\n",
    "    '131', '295', '319', '780', '382', '423', '463', '982', '19', '484682470',\n",
    "    '502', '1084', '1037', '843', '56', '998', '754', '672', '242', '310',\n",
    "    '333', '278', '1011', '1002', '1027', '1018', '723', '731', '746', '104',\n",
    "    '111', '119', '894', '879', '886', '312782546', '417', '188', '196', '204',\n",
    "    '597', '605', '639', '655', '663', '10703', '10704', '632', '918', '926',\n",
    "    '589508447', '484682508', '952', '966', '1022', '1031', '342', '298',\n",
    "    '904', '581', '351', '287'\n",
    "]\n",
    "\n",
    "structure_list = set(structure_list)"
   ]
  },
  {
   "cell_type": "code",
   "execution_count": 5,
   "metadata": {
    "ExecuteTime": {
     "end_time": "2019-11-16T19:17:29.577620Z",
     "start_time": "2019-11-16T19:17:29.545516Z"
    }
   },
   "outputs": [
    {
     "name": "stdout",
     "output_type": "stream",
     "text": [
      "1002\n",
      "1011\n",
      "1018\n",
      "1022\n",
      "1027\n",
      "1031\n",
      "1037\n",
      "104\n",
      "1057\n",
      "10703\n",
      "10704\n",
      "1084\n",
      "111\n",
      "119\n",
      "131\n",
      "159\n",
      "184\n",
      "188\n",
      "19\n",
      "196\n",
      "204\n",
      "242\n",
      "278\n",
      "287\n",
      "295\n",
      "298\n",
      "310\n",
      "312782546\n",
      "312782574\n",
      "312782628\n",
      "319\n",
      "322\n",
      "333\n",
      "342\n",
      "351\n",
      "378\n",
      "382\n",
      "385\n",
      "39\n",
      "394\n",
      "402\n",
      "409\n",
      "417\n",
      "423\n",
      "425\n",
      "44\n",
      "463\n",
      "48\n",
      "484682470\n",
      "484682508\n",
      "502\n",
      "507\n",
      "533\n",
      "541\n",
      "56\n",
      "566\n",
      "581\n",
      "583\n",
      "589508447\n",
      "597\n",
      "605\n",
      "619\n",
      "632\n",
      "639\n",
      "655\n",
      "663\n",
      "672\n",
      "677\n",
      "723\n",
      "731\n",
      "746\n",
      "754\n",
      "780\n",
      "788\n",
      "814\n",
      "843\n",
      "879\n",
      "886\n",
      "894\n",
      "895\n",
      "904\n",
      "918\n",
      "922\n",
      "926\n",
      "952\n",
      "961\n",
      "966\n",
      "972\n",
      "982\n",
      "985\n",
      "993\n",
      "998\n"
     ]
    }
   ],
   "source": [
    "ply_list = pathlib.Path('PLY').glob('*.ply')\n",
    "\n",
    "for ply in ply_list:\n",
    "    region_id = ply.name.split('.')[0]\n",
    "    if region_id not in structure_list:\n",
    "        continue\n",
    "    print(region_id)\n",
    "    region_name = id_to_name[region_id]\n",
    "    region_name = region_name.replace('/', '.')\n",
    "    with open(ply, 'rb') as f, open(f'PLY_RS1_current_region_name/{region_name}.ply', 'wb') as out_f:\n",
    "        out_f.write(f.read())"
   ]
  },
  {
   "cell_type": "code",
   "execution_count": null,
   "metadata": {},
   "outputs": [],
   "source": []
  },
  {
   "cell_type": "code",
   "execution_count": null,
   "metadata": {},
   "outputs": [],
   "source": []
  },
  {
   "cell_type": "code",
   "execution_count": null,
   "metadata": {},
   "outputs": [],
   "source": []
  },
  {
   "cell_type": "code",
   "execution_count": null,
   "metadata": {},
   "outputs": [],
   "source": []
  },
  {
   "cell_type": "code",
   "execution_count": null,
   "metadata": {},
   "outputs": [],
   "source": []
  },
  {
   "cell_type": "code",
   "execution_count": null,
   "metadata": {},
   "outputs": [],
   "source": []
  }
 ],
 "metadata": {
  "hide_input": false,
  "kernelspec": {
   "display_name": "Python 3",
   "language": "python",
   "name": "python3"
  },
  "language_info": {
   "codemirror_mode": {
    "name": "ipython",
    "version": 3
   },
   "file_extension": ".py",
   "mimetype": "text/x-python",
   "name": "python",
   "nbconvert_exporter": "python",
   "pygments_lexer": "ipython3",
   "version": "3.7.3"
  },
  "toc": {
   "base_numbering": 1,
   "nav_menu": {},
   "number_sections": true,
   "sideBar": true,
   "skip_h1_title": true,
   "title_cell": "Table of Contents",
   "title_sidebar": "Contents",
   "toc_cell": false,
   "toc_position": {},
   "toc_section_display": true,
   "toc_window_display": true
  }
 },
 "nbformat": 4,
 "nbformat_minor": 2
}
